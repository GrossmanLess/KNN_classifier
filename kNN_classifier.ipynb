{
 "cells": [
  {
   "cell_type": "code",
   "execution_count": 5,
   "id": "6401c586",
   "metadata": {},
   "outputs": [
    {
     "data": {
      "text/plain": [
       "array([1, 1, 1, 1, 1])"
      ]
     },
     "execution_count": 5,
     "metadata": {},
     "output_type": "execute_result"
    }
   ],
   "source": [
    "from sklearn.neighbors import KNeighborsClassifier\n",
    "import pandas as pd\n",
    "\n",
    "data = pd.DataFrame({'x1':[-1,1,2,-3,3], 'x2':[0,2,-2,-1,2], 'y':[1,0,0,1,1]}, index=['A','B','C','D','E'])\n",
    "\n",
    "y_test = pd.DataFrame({'x1':[0],'x2':[0]})\n",
    " \n",
    "\n",
    "X = data.drop(['y'], axis=1)\n",
    "y = data.y\n",
    "\n",
    "clf = KNeighborsClassifier(n_neighbors=5) #тут меняет количество соседей\n",
    "clf.fit(X,y)\n",
    "abc = clf.predict(X)\n",
    "abc"
   ]
  },
  {
   "cell_type": "code",
   "execution_count": 7,
   "id": "176417fb",
   "metadata": {},
   "outputs": [],
   "source": [
    "def get_classification_parameters(TN, TP, FN, FP):\n",
    "    Acc = (TN + TP) / (TN + TP + FN + FP)\n",
    "    Preс = TP / (TP + FP)\n",
    "    Rec = TP / (TP + FN)\n",
    "    print('Accuracy: {0}\\nPrecision: {1}\\nRecall: {2}'.format(Acc, Preс, Rec))"
   ]
  },
  {
   "cell_type": "code",
   "execution_count": 8,
   "id": "59c70385",
   "metadata": {},
   "outputs": [
    {
     "name": "stdout",
     "output_type": "stream",
     "text": [
      "Accuracy: 0.5714285714285714\n",
      "Precision: 0.6\n",
      "Recall: 0.42857142857142855\n"
     ]
    }
   ],
   "source": [
    "cba = get_classification_parameters(25, 15, 20, 10)"
   ]
  },
  {
   "cell_type": "code",
   "execution_count": 10,
   "id": "ff5e01a4",
   "metadata": {},
   "outputs": [
    {
     "name": "stdout",
     "output_type": "stream",
     "text": [
      "Accuracy: 0.6\n",
      "Precision: 0.6\n",
      "Recall: 1.0\n"
     ]
    }
   ],
   "source": [
    "cba1 = get_classification_parameters(0, 30, 0, 20)"
   ]
  },
  {
   "cell_type": "code",
   "execution_count": null,
   "id": "8b359a5e",
   "metadata": {},
   "outputs": [],
   "source": []
  }
 ],
 "metadata": {
  "kernelspec": {
   "display_name": "Python 3 (ipykernel)",
   "language": "python",
   "name": "python3"
  },
  "language_info": {
   "codemirror_mode": {
    "name": "ipython",
    "version": 3
   },
   "file_extension": ".py",
   "mimetype": "text/x-python",
   "name": "python",
   "nbconvert_exporter": "python",
   "pygments_lexer": "ipython3",
   "version": "3.9.12"
  }
 },
 "nbformat": 4,
 "nbformat_minor": 5
}
